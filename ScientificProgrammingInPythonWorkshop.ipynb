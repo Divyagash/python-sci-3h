{
 "metadata": {
  "name": "",
  "signature": "sha256:d30bfc34659fc7bbf18f813e470234424b382eb88a00f0fddfa286bf9538941c"
 },
 "nbformat": 3,
 "nbformat_minor": 0,
 "worksheets": [
  {
   "cells": [
    {
     "cell_type": "markdown",
     "metadata": {},
     "source": [
      "Scientific Programming in Python\n",
      "================================\n",
      "<br>\n",
      "<center><img src=\"http://ijstokes-public.s3.amazonaws.com/img/continuum-logo-color.png\"></center>\n",
      "\n",
      "Taught by:\n",
      "\n",
      "* Ian Stokes-Rees [ijstokes@continuum.io](mailto:ijstokes@continuum.io)\n",
      "    * Twitter: [@ijstokes](http://twitter.com/ijstokes)\n",
      "    * About.Me: [http://about.me/ijstokes](http://about.me/ijstokes)\n",
      "    * LinkedIn: [http://linkedin.com/in/ijstokes](http://linkedin.com/in/ijstokes)\n",
      "\n",
      "Course Website: \n",
      " [http://j.mp/python-sci-3h](http://j.mp/python-sci-3h)\n",
      " \n",
      "GitHub Version:\n",
      " [https://github.com/ijstokes/python-sci-3h.git](https://github.com/ijstokes/python-sci-3h.git)"
     ]
    },
    {
     "cell_type": "markdown",
     "metadata": {},
     "source": [
      "Tools\n",
      "=====\n",
      "I recommend for this workshop that you use **IPython Notebook**.  That is what I will be using.  Start it up one of these ways:\n",
      "\n",
      "* Anaconda Launcher (icon on your *Desktop* or in your *Start* menu): click the *Launch* button beside `ipython-notebook`\n",
      "* From the command line: `ipython notebook`\n",
      "\n",
      "There are other options available to you:\n",
      "\n",
      "* Spyder (included with Anaconda)\n",
      "* [PyCharm](https://www.jetbrains.com/pycharm/) (free community edition is really good)\n",
      "* SublimeText\n",
      "* Your favorite Python-compatible IDE\n",
      "* Your favorite programmer's text editor (vim!)"
     ]
    },
    {
     "cell_type": "markdown",
     "metadata": {},
     "source": [
      "References\n",
      "----------\n",
      "\n",
      "* <a href=\"http://docs.python.org/2/tutorial/\" target=\"_parent\">Python Tutorial</a> - a good next step to learning Python (about a 2-3 hour commitment)\n",
      "\n",
      "* <a href=\"http://docs.python.org/2/reference/lexical_analysis.html#keywords\" target=\"_parent\">Python Reserved Words</a> - about 40 terms that form the base grammar of the language.  NOTE: Thes are not functions.\n",
      "\n",
      "* <a href=\"http://docs.python.org/2/library/functions.html#built-in-functions\" target=\"_parent\">Python builtin module</a> functions (60) and classes (20)\n",
      "\n",
      "* <a href=\"http://docs.python.org/2/library/\" target=\"_parent\">Python Standard Library</a>\n",
      "\n",
      "* <a href=\"https://pypi.python.org/pypi\" target=\"_parent\">Python Package Index</a> community contributed Python packages\n",
      "\n",
      "* <a href=\"http://python.net/~goodger/projects/pycon/2007/idiomatic/handout.html\" target=\"_parent\">Idiomatic Python</a>"
     ]
    },
    {
     "cell_type": "markdown",
     "metadata": {},
     "source": [
      "Basics\n",
      "======"
     ]
    },
    {
     "cell_type": "code",
     "collapsed": false,
     "input": [
      "# numbers: int, float, complex, sci-notation"
     ],
     "language": "python",
     "metadata": {},
     "outputs": [],
     "prompt_number": 1
    },
    {
     "cell_type": "code",
     "collapsed": false,
     "input": [
      "# simple data structures: tuple, namedtuple"
     ],
     "language": "python",
     "metadata": {},
     "outputs": [],
     "prompt_number": 3
    },
    {
     "cell_type": "code",
     "collapsed": false,
     "input": [
      "# lat, lon, name, pop"
     ],
     "language": "python",
     "metadata": {},
     "outputs": [],
     "prompt_number": 5
    },
    {
     "cell_type": "code",
     "collapsed": false,
     "input": [
      "# containers: list, dict, set, deque"
     ],
     "language": "python",
     "metadata": {},
     "outputs": [],
     "prompt_number": 6
    },
    {
     "cell_type": "code",
     "collapsed": false,
     "input": [
      "# list indexing"
     ],
     "language": "python",
     "metadata": {},
     "outputs": [],
     "prompt_number": 64
    },
    {
     "cell_type": "code",
     "collapsed": false,
     "input": [
      "# list slicing, striding"
     ],
     "language": "python",
     "metadata": {},
     "outputs": []
    },
    {
     "cell_type": "code",
     "collapsed": false,
     "input": [
      "# operations: power, sum, max, min, range, xrange, math, random"
     ],
     "language": "python",
     "metadata": {},
     "outputs": [],
     "prompt_number": 7
    },
    {
     "cell_type": "code",
     "collapsed": false,
     "input": [
      "# simple functions: params, defaults, return values, scoping"
     ],
     "language": "python",
     "metadata": {},
     "outputs": [],
     "prompt_number": 8
    },
    {
     "cell_type": "markdown",
     "metadata": {},
     "source": [
      "Imagine the Boston area on a 10x10 grid, with Central Square Cambridge at the center.  Here we have `(x,y)` coordinates on that grid with place names and populations:\n",
      "```\n",
      "0 0 Cambridge 110000\n",
      "4 -2 Boston 650000\n",
      "2 2 Somerville 80000\n",
      "0 -4 Brookline 60000\n",
      "-4 -2 Newton 90000\n",
      "-4 2 Waltham 60000\n",
      "1 4 Medford 60000\n",
      "```"
     ]
    },
    {
     "cell_type": "markdown",
     "metadata": {},
     "source": [
      "Exercise: Tuples and Functions\n",
      "------------------------------\n",
      "* create a tuple to represent each of these places\n",
      "* write a function to find the total population\n",
      "* use a `namedtuple` called `Place` instead\n",
      "* which is the biggest?\n",
      "* which is the smallest?\n",
      "\n",
      "To look ahead (or for experienced Python programmers), try using *comprehensions* and `lambda` for parts of the exericse.\n",
      "\n",
      "*(10 minutes)*"
     ]
    },
    {
     "cell_type": "code",
     "collapsed": false,
     "input": [
      "data = '''\n",
      "0 0 Cambridge 110000\n",
      "4 -2 Boston 650000\n",
      "2 2 Somerville 80000\n",
      "0 -4 Brookline 60000\n",
      "-4 -2 Newton 90000\n",
      "-4 2 Waltham 60000\n",
      "1 4 Medford 60000\n",
      "'''"
     ],
     "language": "python",
     "metadata": {},
     "outputs": [],
     "prompt_number": 9
    },
    {
     "cell_type": "code",
     "collapsed": false,
     "input": [
      "# model solution"
     ],
     "language": "python",
     "metadata": {},
     "outputs": [],
     "prompt_number": 12
    },
    {
     "cell_type": "code",
     "collapsed": false,
     "input": [
      "# biggest"
     ],
     "language": "python",
     "metadata": {},
     "outputs": [],
     "prompt_number": 19
    },
    {
     "cell_type": "code",
     "collapsed": false,
     "input": [
      "# smallest"
     ],
     "language": "python",
     "metadata": {},
     "outputs": [],
     "prompt_number": 18
    },
    {
     "cell_type": "code",
     "collapsed": false,
     "input": [
      "# most south"
     ],
     "language": "python",
     "metadata": {},
     "outputs": []
    },
    {
     "cell_type": "code",
     "collapsed": false,
     "input": [
      "# comprehension"
     ],
     "language": "python",
     "metadata": {},
     "outputs": [],
     "prompt_number": 17
    },
    {
     "cell_type": "code",
     "collapsed": false,
     "input": [
      "# reading data from a file"
     ],
     "language": "python",
     "metadata": {},
     "outputs": []
    },
    {
     "cell_type": "markdown",
     "metadata": {},
     "source": [
      "Matplotlib\n",
      "==========\n",
      "[Matplotlib Website](http://matplotlib.org/)\n",
      "\n",
      "* de-facto standard for plotting in Python\n",
      "* not in the standard library\n",
      "* included in the Anaconda Python Distribution"
     ]
    },
    {
     "cell_type": "code",
     "collapsed": false,
     "input": [
      "# you MUST do this to get images to appear inline in IPython Notebook\n",
      "%matplotlib inline"
     ],
     "language": "python",
     "metadata": {},
     "outputs": [],
     "prompt_number": 20
    },
    {
     "cell_type": "code",
     "collapsed": false,
     "input": [
      "# mpl.pylab.scatter of p.lat, p.lon"
     ],
     "language": "python",
     "metadata": {},
     "outputs": [],
     "prompt_number": 40
    },
    {
     "cell_type": "code",
     "collapsed": false,
     "input": [
      "# add in p.pop"
     ],
     "language": "python",
     "metadata": {},
     "outputs": [],
     "prompt_number": 42
    },
    {
     "cell_type": "code",
     "collapsed": false,
     "input": [
      "# show off gallery"
     ],
     "language": "python",
     "metadata": {},
     "outputs": [],
     "prompt_number": 41
    },
    {
     "cell_type": "markdown",
     "metadata": {},
     "source": [
      "Exercise: Adding color to scatter plot\n",
      "--------------------------------------\n",
      "* Augment the city data with an estimate of the number of institutes of higher education in each city or town\n",
      "* Use `help()` to read the API information for `matplotlib.pylab.scatter` to see how you can set the color based on some measure\n",
      "* Create a new scatter plot with the color based on the number of institutes of higher education\n",
      "* use the `cmap` parameter to try some different [colormaps](http://matplotlib.org/examples/color/colormaps_reference.html) -- these are specified by name, e.g. `scatter(..., cmap='hsv')`\n",
      "* use `matplotlib.pylab.colorbar()` to add a colorbar to your plot\n",
      "* use `matplotlib.pylab.title()` to add a title to your plot\n",
      "\n",
      "**Advanced:** reduce the population scaling to `10` and introduce an alpha channel for transparency.\n",
      "\n",
      "*(10 minutes)*"
     ]
    },
    {
     "cell_type": "markdown",
     "metadata": {},
     "source": [
      "Numpy\n",
      "=====\n",
      "Regular Python `lists` and `floats` are OK for small stuff, but will let you down if you try doing anything anyone would call \"big\".\n",
      "\n",
      "Solution: Numpy a C Extension library."
     ]
    },
    {
     "cell_type": "code",
     "collapsed": false,
     "input": [
      "# some basics: np.arange -2pi to 2pi"
     ],
     "language": "python",
     "metadata": {},
     "outputs": [],
     "prompt_number": 51
    },
    {
     "cell_type": "code",
     "collapsed": false,
     "input": [
      "# shape, size, dtype"
     ],
     "language": "python",
     "metadata": {},
     "outputs": [],
     "prompt_number": 61
    },
    {
     "cell_type": "code",
     "collapsed": false,
     "input": [
      "# np.sin"
     ],
     "language": "python",
     "metadata": {},
     "outputs": [],
     "prompt_number": 53
    },
    {
     "cell_type": "code",
     "collapsed": false,
     "input": [
      "# random noise"
     ],
     "language": "python",
     "metadata": {},
     "outputs": [],
     "prompt_number": 62
    },
    {
     "cell_type": "markdown",
     "metadata": {},
     "source": [
      "*(overview presentation)*"
     ]
    },
    {
     "cell_type": "code",
     "collapsed": false,
     "input": [
      "s1 = np.array([1, 4, 9, 16, 25])"
     ],
     "language": "python",
     "metadata": {},
     "outputs": []
    },
    {
     "cell_type": "code",
     "collapsed": false,
     "input": [
      "s2 = np.array([[1,2,3,4,5],\n",
      "               [1,4,9,16,25],\n",
      "               [1,8,27,64,125]])"
     ],
     "language": "python",
     "metadata": {},
     "outputs": [],
     "prompt_number": 69
    },
    {
     "cell_type": "markdown",
     "metadata": {},
     "source": [
      "Exercise: NumPy `ndarrary`\n",
      "--------------------------\n",
      "\n",
      "```python\n",
      "s1 = np.array([1, 4, 9, 16, 25])\n",
      "\n",
      "s2 = np.array([[1,2,3,4,5],\n",
      "               [1,4,9,16,25],\n",
      "               [1,8,27,64,125]])\n",
      "```\n",
      "Broadcasting, element-wise operations, slices, and ranges:\n",
      "\n",
      "1. Add `s1` and `s2` to observe broadcasting.\n",
      "\n",
      "2. Get the second value from `s1`.\n",
      "\n",
      "3. Get the third row from `s2`.\n",
      "\n",
      "4. Get the second column from `s2`.\n",
      "\n",
      "5. Generate a range of values from 1 to 20 in 0.5 step increments.\n",
      "\n",
      "6. Generate a range of values from 5 to 30 with a total of 50 entries.\n",
      "\n",
      "7. Use the `np.log10()` function to get the log values of these two ranges (from 5 and 6)., then plot them on the same graph. HINT: Use the lecture note example as a template.\n",
      "\n",
      "8. Use `np.sin()` to create an `ndarray` of 2 periods and 1000 data points."
     ]
    },
    {
     "cell_type": "code",
     "collapsed": false,
     "input": [
      "# advanced indexing: multiple dimensions"
     ],
     "language": "python",
     "metadata": {},
     "outputs": [],
     "prompt_number": 65
    },
    {
     "cell_type": "code",
     "collapsed": false,
     "input": [
      "# advanced indexing: conditionals"
     ],
     "language": "python",
     "metadata": {},
     "outputs": [],
     "prompt_number": 66
    },
    {
     "cell_type": "code",
     "collapsed": false,
     "input": [
      "meta = ['foo bar baz zip zap'.split(),\n",
      "        'prip bang kong zowy ping'.split(),\n",
      "        'blort wibble bring klang crash'.split()]"
     ],
     "language": "python",
     "metadata": {},
     "outputs": [],
     "prompt_number": 68
    },
    {
     "cell_type": "code",
     "collapsed": false,
     "input": [
      "# np.where : "
     ],
     "language": "python",
     "metadata": {},
     "outputs": []
    }
   ],
   "metadata": {}
  }
 ]
}